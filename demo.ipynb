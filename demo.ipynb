{
 "cells": [
  {
   "cell_type": "code",
   "execution_count": 1,
   "id": "985f852f-6461-41ec-a4b3-9fd215142e18",
   "metadata": {},
   "outputs": [],
   "source": [
    "import os\n",
    "import time\n",
    "import json\n",
    "import tqdm\n",
    "import random\n",
    "import base64\n",
    "import dashscope\n",
    "import PIL.Image\n",
    "from openai import OpenAI\n",
    "from http import HTTPStatus\n",
    "from datasets import load_dataset\n",
    "from collections import defaultdict\n",
    "import google.generativeai as genai\n",
    "\n",
    "from agent import *\n",
    "from persuasive import *\n",
    "from weak2strong import *"
   ]
  },
  {
   "cell_type": "markdown",
   "id": "f03cfd1c-1f4a-4b16-9f1f-b14fc968cdc2",
   "metadata": {},
   "source": [
    "Persuasive Debate"
   ]
  },
  {
   "cell_type": "code",
   "execution_count": 2,
   "id": "fa49dff5-48cd-4240-85d2-d05b5fbac1fb",
   "metadata": {},
   "outputs": [],
   "source": [
    "model_name = 'qwen'\n",
    "\n",
    "debate_list = ['vanilla', 'weak2strong', 'MLLM_protector', 'Smoothvlm']\n",
    "debate = debate_list[1]\n",
    "\n",
    "datasets = ['MMBench', 'coco', 'mm-vet', 'MM-SafetyBench',  'VitJailbreak', 'JailbreakV-28k', 'HADES', 'figstep', 'FigStep', 'Self-Gen']\n",
    "dataset = datasets[-1]\n",
    "\n",
    "resample_method_list = ['center_crop', 'auto_crop', 'random_crop']\n",
    "resample_method = resample_method_list[1]"
   ]
  },
  {
   "cell_type": "code",
   "execution_count": 3,
   "id": "014f10ea-469d-47ac-afb8-7d9ec081e2db",
   "metadata": {},
   "outputs": [],
   "source": [
    "files = os.listdir(\"./examples/\")"
   ]
  },
  {
   "cell_type": "code",
   "execution_count": null,
   "id": "e1d9a61a-0c2a-4744-a761-7898282b5223",
   "metadata": {
    "scrolled": true
   },
   "outputs": [],
   "source": [
    "start_idx = 0\n",
    "judge = JudgeAgent()\n",
    "for i in files:\n",
    "    item = {\"whole_image\": \"./examples/\" + i,\n",
    "           \"instruction\": 'is this Somali or (2) Abyssinian?',\n",
    "           \"label\": \"Abyssinian\",\n",
    "           \"misleading\": \"Somali\"}\n",
    "    if debate == 'MLLM_protector':\n",
    "        output_path = f'./{model_name}_{dataset}_{debate}_118.jsonl'\n",
    "        item = protector(item)\n",
    "    \n",
    "    elif debate == 'Smoothvlm':\n",
    "        output_path = f'./{model_name}_{dataset}_{debate}.jsonl'\n",
    "        item = smoothvlm(item)\n",
    "    elif debate == 'ECSO':\n",
    "        output_path = f'./{model_name}_{dataset}_{debate}.jsonl'\n",
    "        ecso(item)\n",
    "    \n",
    "    elif debate == 'weak2strong':\n",
    "        output_path = f'./{model_name}_{dataset}_{debate}.jsonl'\n",
    "        weak2strong(item, model_name, crop='auto_crop')\n",
    "    \n",
    "    with open(output_path, \"a\") as jsonl_file:\n",
    "        jsonl_file.write(json.dumps(item) + \"\\n\")"
   ]
  }
 ],
 "metadata": {
  "kernelspec": {
   "display_name": "Python 3 (ipykernel)",
   "language": "python",
   "name": "python3"
  },
  "language_info": {
   "codemirror_mode": {
    "name": "ipython",
    "version": 3
   },
   "file_extension": ".py",
   "mimetype": "text/x-python",
   "name": "python",
   "nbconvert_exporter": "python",
   "pygments_lexer": "ipython3",
   "version": "3.10.8"
  }
 },
 "nbformat": 4,
 "nbformat_minor": 5
}
